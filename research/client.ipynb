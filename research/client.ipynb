{
 "cells": [
  {
   "cell_type": "code",
   "execution_count": null,
   "metadata": {},
   "outputs": [],
   "source": [
    "## the client is not working at the moment\n",
    "\n",
    "import requests\n",
    "import json\n",
    "from pprint import pprint\n",
    "\n",
    "def get_response(input_text):\n",
    "    request_body = {\n",
    "        \"input\": {\n",
    "            \"input\": \"How to run Speckle's python sdk?\"\n",
    "        },\n",
    "        \"config\": {},\n",
    "        \"kwargs\": {}\n",
    "    }\n",
    "    \n",
    "    response = requests.post(\"http://localhost:8000/speckle_chat/invoke\", json=request_body)\n",
    "    \n",
    "    return response.json()\n",
    "\n",
    "input_text = \"How to run Speckle's python sdk?\"\n",
    "generation = get_response(input_text)\n",
    "print(generation)\n",
    "\n"
   ]
  },
  {
   "cell_type": "code",
   "execution_count": null,
   "metadata": {},
   "outputs": [],
   "source": [
    "from langserve import RemoteRunnable\n",
    "\n",
    "app = RemoteRunnable(\"http://localhost:8000/speckle_chat/\")\n",
    "\n",
    "\n",
    "\n",
    "response = app.invoke({\"input\": \"How to install Speckle's python sdk?\", \"generation\": \"\", \"documents\": [\"\"]})"
   ]
  }
 ],
 "metadata": {
  "kernelspec": {
   "display_name": "venv",
   "language": "python",
   "name": "python3"
  },
  "language_info": {
   "codemirror_mode": {
    "name": "ipython",
    "version": 3
   },
   "file_extension": ".py",
   "mimetype": "text/x-python",
   "name": "python",
   "nbconvert_exporter": "python",
   "pygments_lexer": "ipython3",
   "version": "3.10.14"
  }
 },
 "nbformat": 4,
 "nbformat_minor": 2
}
