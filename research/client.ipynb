{
 "cells": [
  {
   "cell_type": "code",
   "execution_count": 94,
   "metadata": {},
   "outputs": [],
   "source": [
    "## the client is not working at the moment\n",
    "from langserve import RemoteRunnable\n",
    "import requests\n",
    "import json\n",
    "from pprint import pprint\n",
    "\n",
    "input_text = \"How to receive objects from the Server?\"\n",
    "app = RemoteRunnable(\"http://localhost:8000/speckle_chat/\")\n"
   ]
  },
  {
   "cell_type": "code",
   "execution_count": 95,
   "metadata": {},
   "outputs": [
    {
     "name": "stdout",
     "output_type": "stream",
     "text": [
      "\"Node 'retrieve':\"\n",
      "'\\n---\\n'\n",
      "\"Node 'grade_documents':\"\n",
      "'\\n---\\n'\n",
      "\"Node 'generate':\"\n",
      "'\\n---\\n'\n"
     ]
    }
   ],
   "source": [
    "for output in app.stream({\"input\": input_text}):\n",
    "    for key, value in output.items():\n",
    "        # Node\n",
    "        pprint(f\"Node '{key}':\")\n",
    "        # Optional: print full state at each node\n",
    "        # pprint.pprint(value[\"keys\"], indent=2, width=80, depth=None)\n",
    "    pprint(\"\\n---\\n\")\n",
    "\n",
    "\n"
   ]
  },
  {
   "cell_type": "code",
   "execution_count": 96,
   "metadata": {},
   "outputs": [
    {
     "name": "stdout",
     "output_type": "stream",
     "text": [
      "To receive objects from the server using Speckle, you need to follow these steps:\n",
      "\n",
      "1. **Create a `SpeckleClient`**: This client will serve as your entry point to the Speckle API.\n",
      "2. **Authenticate the Client**: Use a token from a local account to authenticate the client. You can create a Personal Access Token from your server profile if you haven't added a local account using the Speckle Manager.\n",
      "3. **Get the Commit**: Use the authenticated client to get the commit you're interested in.\n",
      "\n",
      "Here is a detailed example in Python:\n",
      "\n",
      "1. **Install the Speckle Python SDK**:\n",
      "   ```bash\n",
      "   pip install specklepy\n",
      "   ```\n",
      "\n",
      "2. **Receive Objects from the Server**:\n",
      "   ```python\n",
      "   from specklepy.api.client import SpeckleClient\n",
      "   from specklepy.api.credentials import get_local_account\n",
      "   from specklepy.transports.server import ServerTransport\n",
      "   from specklepy.api import operations\n",
      "\n",
      "   # Initialize the client\n",
      "   client = SpeckleClient(host=\"your-server.com\")\n",
      "\n",
      "   # Authenticate the client using a local account\n",
      "   account = get_local_account(\"your-server.com\")\n",
      "   client.authenticate_with_account(account)\n",
      "\n",
      "   # Specify the stream ID and commit ID you are interested in\n",
      "   stream_id = \"your-stream-id\"\n",
      "   commit_id = \"your-commit-id\"\n",
      "\n",
      "   # Get the commit object\n",
      "   commit = client.commit.get(stream_id, commit_id)\n",
      "\n",
      "   # Use the commit's referenced object ID to receive the data\n",
      "   object_id = commit.referencedObject\n",
      "\n",
      "   # Create a server transport\n",
      "   transport = ServerTransport(client=client, stream_id=stream_id)\n",
      "\n",
      "   # Receive the object\n",
      "   received_object = operations.receive(object_id, transport)\n",
      "\n",
      "   # Now `received_object` contains the deserialized data from the server\n",
      "   print(received_object)\n",
      "   ```\n",
      "\n",
      "### Explanation:\n",
      "- **SpeckleClient**: This is the main client to interact with the Speckle server.\n",
      "- **get_local_account**: This function retrieves the local account details.\n",
      "- **ServerTransport**: This transport is used to receive data from the server.\n",
      "- **operations.receive**: This function receives and deserializes the data from the server.\n",
      "\n",
      "Make sure to replace `\"your-server.com\"`, `\"your-stream-id\"`, and `\"your-commit-id\"` with your actual server URL, stream ID, and commit ID respectively.\n",
      "\n",
      "This example assumes you have already set up a local account and have the necessary permissions to access the specified stream and commit.\n"
     ]
    }
   ],
   "source": [
    "print(value['generation'])"
   ]
  }
 ],
 "metadata": {
  "kernelspec": {
   "display_name": "venv",
   "language": "python",
   "name": "python3"
  },
  "language_info": {
   "codemirror_mode": {
    "name": "ipython",
    "version": 3
   },
   "file_extension": ".py",
   "mimetype": "text/x-python",
   "name": "python",
   "nbconvert_exporter": "python",
   "pygments_lexer": "ipython3",
   "version": "3.10.14"
  }
 },
 "nbformat": 4,
 "nbformat_minor": 2
}
